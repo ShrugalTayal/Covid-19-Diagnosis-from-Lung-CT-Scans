{
 "cells": [
  {
   "cell_type": "code",
   "execution_count": 1,
   "id": "42bd0dc4",
   "metadata": {},
   "outputs": [],
   "source": [
    "import numpy as np\n",
    "import pandas as pd\n",
    "import os\n",
    "from glob import glob\n",
    "import cv2"
   ]
  },
  {
   "cell_type": "code",
   "execution_count": 2,
   "id": "c623341e",
   "metadata": {},
   "outputs": [
    {
     "name": "stdout",
     "output_type": "stream",
     "text": [
      "Number of Positive Covid-19 Samples: 349\n",
      "Number of Negative Covid-19 Samples: 397\n"
     ]
    }
   ],
   "source": [
    "directory='C:/Users/Aditya/Documents/GitHub/Covid-19-Diagnosis-from-Lung-CT-Scans/Dataset'\n",
    "path_covid_positive_cases=os.path.join('C:/Users/Aditya/Documents/GitHub/Covid-19-Diagnosis-from-Lung-CT-Scans/Dataset/CT_COVID/')\n",
    "path_covid_negative_cases=os.path.join('C:/Users/Aditya/Documents/GitHub/Covid-19-Diagnosis-from-Lung-CT-Scans/Dataset/CT_NonCOVID/')\n",
    "\n",
    "print('Number of Positive Covid-19 Samples: {}'.format(len(os.listdir(path_covid_positive_cases))))\n",
    "print('Number of Negative Covid-19 Samples: {}'.format(len(os.listdir(path_covid_negative_cases))))"
   ]
  },
  {
   "cell_type": "code",
   "execution_count": 3,
   "id": "6daf1aba",
   "metadata": {},
   "outputs": [],
   "source": [
    "positive_covid_images = glob(os.path.join(path_covid_positive_cases,\"*.png\"))\n",
    "negative_covid_images = glob(os.path.join(path_covid_negative_cases,\"*.png\"))\n",
    "negative_covid_images.extend(glob(os.path.join(path_covid_negative_cases,\"*.jpg\")))"
   ]
  },
  {
   "cell_type": "code",
   "execution_count": 4,
   "id": "0ce83eae",
   "metadata": {},
   "outputs": [],
   "source": [
    "covid = {'class': 'CT_COVID','path': path_covid_positive_cases,'images': positive_covid_images}\n",
    "non_covid = {'class': 'CT_NonCOVID','path': path_covid_negative_cases,'images': negative_covid_images}"
   ]
  },
  {
   "cell_type": "code",
   "execution_count": 5,
   "id": "4cb7a206",
   "metadata": {},
   "outputs": [],
   "source": [
    "subdirs=['CNN/Train/','CNN/Test/']\n",
    "for subdir in subdirs:\n",
    "    labeldirs=['CT_COVID','CT_NonCOVID']\n",
    "    for labeldir in labeldirs:\n",
    "        newdir=subdir+labeldir \n",
    "        os.makedirs(newdir,exist_ok=\"True\")"
   ]
  },
  {
   "cell_type": "code",
   "execution_count": 6,
   "id": "1467f569",
   "metadata": {},
   "outputs": [
    {
     "name": "stdout",
     "output_type": "stream",
     "text": [
      "No. of Testing CT_COVID Samples: 69\n",
      "No. of Testing CT_NonCOVID Samples: 79\n"
     ]
    }
   ],
   "source": [
    "import shutil\n",
    "import random\n",
    "\n",
    "random.seed(69)\n",
    "test_ratio=0.2\n",
    "\n",
    "for cases in [covid,non_covid]:\n",
    "    total_cases=len(cases['images'])\n",
    "    num_to_select=(int)(total_cases*test_ratio)\n",
    "    print(\"No. of Testing\",cases['class'],\"Samples:\",num_to_select)\n",
    "    #print(\"Total\",cases['class'],\"Samples:\",total_cases)\n",
    "    random_files_list=random.sample(cases['images'],num_to_select)\n",
    "    for files in random_files_list:\n",
    "        shutil.copy(files,'CNN/Test/'+cases['class'])"
   ]
  },
  {
   "cell_type": "code",
   "execution_count": 7,
   "id": "fb6da181",
   "metadata": {},
   "outputs": [],
   "source": [
    "for cases in [covid,non_covid]:\n",
    "    images_test_files=os.listdir('CNN/Test/'+cases['class'])\n",
    "    for images in cases['images']:\n",
    "        if images.split('\\\\')[-1] not in images_test_files:\n",
    "            shutil.copy(images,'CNN/Train/'+cases['class'])"
   ]
  },
  {
   "cell_type": "code",
   "execution_count": 8,
   "id": "eb4edbd5",
   "metadata": {},
   "outputs": [
    {
     "name": "stdout",
     "output_type": "stream",
     "text": [
      "Train sets images COVID: 280\n",
      "Train sets images Non COVID: 318\n",
      "Test sets images COVID: 69\n",
      "Test sets images Non COVID: 79\n"
     ]
    }
   ],
   "source": [
    "total_train_covid = len(os.listdir('C:/Users/Aditya/Documents/GitHub/Covid-19-Diagnosis-from-Lung-CT-Scans/CNN/Train/CT_COVID'))\n",
    "total_train_noncovid = len(os.listdir('C:/Users/Aditya/Documents/GitHub/Covid-19-Diagnosis-from-Lung-CT-Scans/CNN/Train/CT_NonCOVID'))\n",
    "total_test_covid = len(os.listdir('C:/Users/Aditya/Documents/GitHub/Covid-19-Diagnosis-from-Lung-CT-Scans/CNN/Test/CT_COVID'))\n",
    "total_test_noncovid = len(os.listdir('C:/Users/Aditya/Documents/GitHub/Covid-19-Diagnosis-from-Lung-CT-Scans/CNN/Test/CT_NonCOVID'))\n",
    "\n",
    "print(\"Train sets images COVID: {}\".format(total_train_covid))\n",
    "print(\"Train sets images Non COVID: {}\".format(total_train_noncovid))\n",
    "print(\"Test sets images COVID: {}\".format(total_test_covid))\n",
    "print(\"Test sets images Non COVID: {}\".format(total_test_noncovid))"
   ]
  },
  {
   "cell_type": "code",
   "execution_count": 9,
   "id": "dfbee4a3",
   "metadata": {},
   "outputs": [],
   "source": [
    "import tensorflow as tf\n",
    "from tensorflow import keras\n",
    "from tensorflow.keras.models import Sequential \n",
    "from tensorflow.keras.layers import Dense,Conv2D,MaxPooling2D,Flatten, Dropout\n",
    "from tensorflow.keras.preprocessing.image import ImageDataGenerator"
   ]
  },
  {
   "cell_type": "code",
   "execution_count": 10,
   "id": "019af400",
   "metadata": {},
   "outputs": [],
   "source": [
    "train_image_gen = ImageDataGenerator(rescale=1./255)\n",
    "test_image_gen = ImageDataGenerator(rescale=1./255)\n",
    "\n",
    "train_dir=os.path.join('C:/Users/Aditya/Documents/GitHub/Covid-19-Diagnosis-from-Lung-CT-Scans/CNN/Train/')\n",
    "test_dir=os.path.join('C:/Users/Aditya/Documents/GitHub/Covid-19-Diagnosis-from-Lung-CT-Scans/CNN/Test/')"
   ]
  },
  {
   "cell_type": "code",
   "execution_count": 11,
   "id": "9b95c9cc",
   "metadata": {},
   "outputs": [
    {
     "name": "stdout",
     "output_type": "stream",
     "text": [
      "Found 598 images belonging to 2 classes.\n"
     ]
    }
   ],
   "source": [
    "train_generator=train_image_gen.flow_from_directory(train_dir, batch_size=32, class_mode='binary', \n",
    "                                                  target_size=(250,250))"
   ]
  },
  {
   "cell_type": "code",
   "execution_count": 12,
   "id": "5519cf6f",
   "metadata": {},
   "outputs": [
    {
     "name": "stdout",
     "output_type": "stream",
     "text": [
      "Found 148 images belonging to 2 classes.\n"
     ]
    }
   ],
   "source": [
    "test_generator=test_image_gen.flow_from_directory(test_dir, batch_size=32, class_mode='binary',\n",
    "                                               target_size=(250,250))"
   ]
  },
  {
   "cell_type": "code",
   "execution_count": 13,
   "id": "b2fec81a",
   "metadata": {},
   "outputs": [],
   "source": [
    "model=tf.keras.models.Sequential([\n",
    "    tf.keras.layers.Conv2D(16,(3,3),activation='relu',input_shape=(250,250,3)),\n",
    "    tf.keras.layers.MaxPooling2D(2,2),\n",
    "    \n",
    "    tf.keras.layers.Conv2D(32,(3,3),activation='relu'),\n",
    "    tf.keras.layers.MaxPooling2D(2,2),\n",
    "    tf.keras.layers.Dropout(0.4),\n",
    "    \n",
    "    tf.keras.layers.Conv2D(32,(3,3),activation='relu'),\n",
    "    tf.keras.layers.MaxPooling2D(2,2),\n",
    "    \n",
    "    tf.keras.layers.Flatten(),\n",
    "    \n",
    "    tf.keras.layers.Dense(128,activation='relu'),\n",
    "    tf.keras.layers.Dropout(0.4),\n",
    "    tf.keras.layers.Dense(64,activation='relu'),\n",
    "    tf.keras.layers.Dense(1,activation='sigmoid')\n",
    "])"
   ]
  },
  {
   "cell_type": "code",
   "execution_count": 14,
   "id": "e081ad2f",
   "metadata": {},
   "outputs": [
    {
     "name": "stdout",
     "output_type": "stream",
     "text": [
      "Model: \"sequential\"\n",
      "_________________________________________________________________\n",
      " Layer (type)                Output Shape              Param #   \n",
      "=================================================================\n",
      " conv2d (Conv2D)             (None, 248, 248, 16)      448       \n",
      "                                                                 \n",
      " max_pooling2d (MaxPooling2D  (None, 124, 124, 16)     0         \n",
      " )                                                               \n",
      "                                                                 \n",
      " conv2d_1 (Conv2D)           (None, 122, 122, 32)      4640      \n",
      "                                                                 \n",
      " max_pooling2d_1 (MaxPooling  (None, 61, 61, 32)       0         \n",
      " 2D)                                                             \n",
      "                                                                 \n",
      " dropout (Dropout)           (None, 61, 61, 32)        0         \n",
      "                                                                 \n",
      " conv2d_2 (Conv2D)           (None, 59, 59, 32)        9248      \n",
      "                                                                 \n",
      " max_pooling2d_2 (MaxPooling  (None, 29, 29, 32)       0         \n",
      " 2D)                                                             \n",
      "                                                                 \n",
      " flatten (Flatten)           (None, 26912)             0         \n",
      "                                                                 \n",
      " dense (Dense)               (None, 128)               3444864   \n",
      "                                                                 \n",
      " dropout_1 (Dropout)         (None, 128)               0         \n",
      "                                                                 \n",
      " dense_1 (Dense)             (None, 64)                8256      \n",
      "                                                                 \n",
      " dense_2 (Dense)             (None, 1)                 65        \n",
      "                                                                 \n",
      "=================================================================\n",
      "Total params: 3,467,521\n",
      "Trainable params: 3,467,521\n",
      "Non-trainable params: 0\n",
      "_________________________________________________________________\n"
     ]
    }
   ],
   "source": [
    "model.summary()"
   ]
  },
  {
   "cell_type": "code",
   "execution_count": 15,
   "id": "0bfd31bf",
   "metadata": {},
   "outputs": [
    {
     "name": "stdout",
     "output_type": "stream",
     "text": [
      "Epoch 1/20\n",
      "18/18 [==============================] - 15s 732ms/step - loss: 0.8233 - accuracy: 0.4700 - val_loss: 0.6925 - val_accuracy: 0.5338\n",
      "Epoch 2/20\n",
      "18/18 [==============================] - 12s 669ms/step - loss: 0.6926 - accuracy: 0.5548 - val_loss: 0.6920 - val_accuracy: 0.5338\n",
      "Epoch 3/20\n",
      "18/18 [==============================] - 12s 674ms/step - loss: 0.6894 - accuracy: 0.5654 - val_loss: 0.6835 - val_accuracy: 0.5338\n",
      "Epoch 4/20\n",
      "18/18 [==============================] - 12s 671ms/step - loss: 0.6877 - accuracy: 0.6007 - val_loss: 0.6870 - val_accuracy: 0.5878\n",
      "Epoch 5/20\n",
      "18/18 [==============================] - 12s 677ms/step - loss: 0.6620 - accuracy: 0.6042 - val_loss: 0.6530 - val_accuracy: 0.6824\n",
      "Epoch 6/20\n",
      "18/18 [==============================] - 12s 669ms/step - loss: 0.6548 - accuracy: 0.6237 - val_loss: 0.6288 - val_accuracy: 0.6554\n",
      "Epoch 7/20\n",
      "18/18 [==============================] - 12s 671ms/step - loss: 0.5756 - accuracy: 0.7120 - val_loss: 0.6100 - val_accuracy: 0.6351\n",
      "Epoch 8/20\n",
      "18/18 [==============================] - 12s 672ms/step - loss: 0.5310 - accuracy: 0.7314 - val_loss: 0.5792 - val_accuracy: 0.6757\n",
      "Epoch 9/20\n",
      "18/18 [==============================] - 12s 671ms/step - loss: 0.4622 - accuracy: 0.8092 - val_loss: 0.5643 - val_accuracy: 0.7027\n",
      "Epoch 10/20\n",
      "18/18 [==============================] - 12s 671ms/step - loss: 0.4394 - accuracy: 0.7951 - val_loss: 0.5596 - val_accuracy: 0.7095\n",
      "Epoch 11/20\n",
      "18/18 [==============================] - 12s 668ms/step - loss: 0.3703 - accuracy: 0.8304 - val_loss: 0.6581 - val_accuracy: 0.6959\n",
      "Epoch 12/20\n",
      "18/18 [==============================] - 12s 680ms/step - loss: 0.3471 - accuracy: 0.8534 - val_loss: 0.5767 - val_accuracy: 0.7095\n",
      "Epoch 13/20\n",
      "18/18 [==============================] - 12s 669ms/step - loss: 0.2747 - accuracy: 0.8816 - val_loss: 0.5972 - val_accuracy: 0.7162\n",
      "Epoch 14/20\n",
      "18/18 [==============================] - 12s 677ms/step - loss: 0.2269 - accuracy: 0.9080 - val_loss: 0.5991 - val_accuracy: 0.7365\n",
      "Epoch 15/20\n",
      "18/18 [==============================] - 12s 667ms/step - loss: 0.2260 - accuracy: 0.9046 - val_loss: 0.6823 - val_accuracy: 0.7500\n",
      "Epoch 16/20\n",
      "18/18 [==============================] - 12s 683ms/step - loss: 0.1675 - accuracy: 0.9346 - val_loss: 0.6683 - val_accuracy: 0.7568\n",
      "Epoch 17/20\n",
      "18/18 [==============================] - 12s 663ms/step - loss: 0.1682 - accuracy: 0.9293 - val_loss: 0.7390 - val_accuracy: 0.7297\n",
      "Epoch 18/20\n",
      "18/18 [==============================] - 12s 673ms/step - loss: 0.1293 - accuracy: 0.9435 - val_loss: 0.7566 - val_accuracy: 0.7230\n",
      "Epoch 19/20\n",
      "18/18 [==============================] - 12s 687ms/step - loss: 0.0704 - accuracy: 0.9770 - val_loss: 0.8968 - val_accuracy: 0.7365\n",
      "Epoch 20/20\n",
      "18/18 [==============================] - 13s 699ms/step - loss: 0.0598 - accuracy: 0.9770 - val_loss: 0.8514 - val_accuracy: 0.7297\n"
     ]
    }
   ],
   "source": [
    "model.compile(optimizer='adam',loss=tf.keras.losses.BinaryCrossentropy(),metrics=['accuracy'])\n",
    "\n",
    "history=model.fit(train_generator,steps_per_epoch = train_generator.samples // 32, epochs=20,validation_data=test_generator)"
   ]
  },
  {
   "cell_type": "code",
   "execution_count": 16,
   "id": "225a666e",
   "metadata": {},
   "outputs": [
    {
     "data": {
      "image/png": "[encoded data removed]",
      "text/plain": [
       "<Figure size 864x288 with 2 Axes>"
      ]
     },
     "metadata": {
      "needs_background": "light"
     },
     "output_type": "display_data"
    }
   ],
   "source": [
    "import matplotlib.pyplot as plt\n",
    "\n",
    "accuracy = history.history['accuracy']\n",
    "val_accuracy = history.history['val_accuracy']\n",
    "loss=history.history['loss']\n",
    "val_loss=history.history['val_loss']\n",
    "\n",
    "epochs_range = range(len(loss))\n",
    "\n",
    "plt.figure(figsize=(12, 4))\n",
    "plt.subplot(1, 2, 1)\n",
    "plt.plot(epochs_range, accuracy, label='Training Accuracy')\n",
    "plt.plot(epochs_range, val_accuracy, label='Validation Accuracy')\n",
    "plt.legend(loc='upper right')\n",
    "plt.title('Training and Validation Accuracy')\n",
    "\n",
    "plt.subplot(1, 2, 2)\n",
    "plt.plot(epochs_range, loss, label='Training Loss')\n",
    "plt.plot(epochs_range, val_loss, label='Validation Loss')\n",
    "plt.legend(loc='upper right')\n",
    "plt.title('Training and Validation Loss')\n",
    "plt.show()"
   ]
  },
  {
   "cell_type": "code",
   "execution_count": 17,
   "id": "30cbee55",
   "metadata": {},
   "outputs": [
    {
     "name": "stdout",
     "output_type": "stream",
     "text": [
      "4/4 [==============================] - 1s 221ms/step\n"
     ]
    }
   ],
   "source": [
    "from sklearn.metrics import confusion_matrix\n",
    "step_size=test_generator.samples//test_generator.batch_size\n",
    "test_generator.reset()\n",
    "Y_Pred=model.predict(test_generator,steps=step_size)"
   ]
  },
  {
   "cell_type": "code",
   "execution_count": 18,
   "id": "109df1fe",
   "metadata": {},
   "outputs": [],
   "source": [
    "predictions=[]\n",
    "y_pred=[]\n",
    "for pred in Y_Pred:\n",
    "    if pred<=0.5:\n",
    "        predictions.append('CT_COVID')\n",
    "        y_pred.append(0)\n",
    "    else:\n",
    "        predictions.append('CT_NonCOVID')\n",
    "        y_pred.append(1)\n",
    "filenames=[]\n",
    "classnames=[]\n",
    "for i in range(128):\n",
    "    filenames.append(test_generator.filenames[i])\n",
    "    classnames.append(test_generator.classes[i])"
   ]
  },
  {
   "cell_type": "code",
   "execution_count": 19,
   "id": "01728636",
   "metadata": {},
   "outputs": [
    {
     "name": "stdout",
     "output_type": "stream",
     "text": [
      "[[36 33]\n",
      " [27 32]]\n"
     ]
    }
   ],
   "source": [
    "from sklearn.metrics import confusion_matrix,classification_report\n",
    "print(confusion_matrix(classnames,y_pred))\n",
    "c_matrix=confusion_matrix(classnames,y_pred)"
   ]
  },
  {
   "cell_type": "code",
   "execution_count": 22,
   "id": "34c90799",
   "metadata": {},
   "outputs": [
    {
     "name": "stdout",
     "output_type": "stream",
     "text": [
      "Accuracy: 0.857463\n",
      "Precision: 0.492308\n",
      "Recall: 0.542373\n",
      "F1 score: 0.516129\n"
     ]
    }
   ],
   "source": [
    "accuracy = (c_matrix[0][0]+c_matrix[1][1])/(c_matrix[0][0]+c_matrix[1][1]+c_matrix[0][1]+c_matrix[0][1])\n",
    "print('Accuracy: %f' % accuracy)\n",
    "precision = (c_matrix[1][1])/(c_matrix[1][1]+c_matrix[0][1])\n",
    "print('Precision: %f' % precision)\n",
    "recall = (c_matrix[1][1])/(c_matrix[1][1]+c_matrix[1][0])\n",
    "print('Recall: %f' % recall)\n",
    "f1 = 2*((precision*recall)/(precision+recall))\n",
    "print('F1 score: %f' % f1)"
   ]
  }
 ],
 "metadata": {
  "kernelspec": {
   "display_name": "Python 3 (ipykernel)",
   "language": "python",
   "name": "python3"
  },
  "language_info": {
   "codemirror_mode": {
    "name": "ipython",
    "version": 3
   },
   "file_extension": ".py",
   "mimetype": "text/x-python",
   "name": "python",
   "nbconvert_exporter": "python",
   "pygments_lexer": "ipython3",
   "version": "3.9.12"
  }
 },
 "nbformat": 4,
 "nbformat_minor": 5
}
