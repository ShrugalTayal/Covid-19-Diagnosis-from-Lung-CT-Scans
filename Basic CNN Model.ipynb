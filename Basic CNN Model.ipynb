{
 "cells": [
  {
   "cell_type": "code",
   "execution_count": 1,
   "id": "42bd0dc4",
   "metadata": {},
   "outputs": [],
   "source": [
    "import numpy as np\n",
    "import pandas as pd\n",
    "import os\n",
    "from glob import glob\n",
    "import cv2"
   ]
  },
  {
   "cell_type": "code",
   "execution_count": 2,
   "id": "c623341e",
   "metadata": {},
   "outputs": [
    {
     "name": "stdout",
     "output_type": "stream",
     "text": [
      "Number of Positive Covid-19 Samples: 349\n",
      "Number of Negative Covid-19 Samples: 397\n"
     ]
    }
   ],
   "source": [
    "directory='C:/Users/Aditya/Documents/GitHub/Covid-19-Diagnosis-from-Lung-CT-Scans/Dataset'\n",
    "path_covid_positive_cases=os.path.join('C:/Users/Aditya/Documents/GitHub/Covid-19-Diagnosis-from-Lung-CT-Scans/Dataset/CT_COVID/')\n",
    "path_covid_negative_cases=os.path.join('C:/Users/Aditya/Documents/GitHub/Covid-19-Diagnosis-from-Lung-CT-Scans/Dataset/CT_NonCOVID/')\n",
    "\n",
    "print('Number of Positive Covid-19 Samples: {}'.format(len(os.listdir(path_covid_positive_cases))))\n",
    "print('Number of Negative Covid-19 Samples: {}'.format(len(os.listdir(path_covid_negative_cases))))"
   ]
  },
  {
   "cell_type": "code",
   "execution_count": 3,
   "id": "6daf1aba",
   "metadata": {},
   "outputs": [],
   "source": [
    "positive_covid_images = glob(os.path.join(path_covid_positive_cases,\"*.png\"))\n",
    "negative_covid_images = glob(os.path.join(path_covid_negative_cases,\"*.png\"))\n",
    "negative_covid_images.extend(glob(os.path.join(path_covid_negative_cases,\"*.jpg\")))"
   ]
  },
  {
   "cell_type": "code",
   "execution_count": 5,
   "id": "0ce83eae",
   "metadata": {},
   "outputs": [],
   "source": [
    "covid = {'class': 'CT_COVID','path': path_covid_positive_cases,'images': positive_covid_images}\n",
    "non_covid = {'class': 'CT_NonCOVID','path': path_covid_negative_cases,'images': negative_covid_images}"
   ]
  },
  {
   "cell_type": "code",
   "execution_count": 6,
   "id": "4cb7a206",
   "metadata": {},
   "outputs": [],
   "source": [
    "subdirs=['CNN/Train/','CNN/Test/']\n",
    "for subdir in subdirs:\n",
    "    labeldirs=['CT_COVID','CT_NonCOVID']\n",
    "    for labeldir in labeldirs:\n",
    "        newdir=subdir+labeldir \n",
    "        os.makedirs(newdir,exist_ok=\"True\")"
   ]
  },
  {
   "cell_type": "code",
   "execution_count": 7,
   "id": "1467f569",
   "metadata": {},
   "outputs": [
    {
     "name": "stdout",
     "output_type": "stream",
     "text": [
      "No. of Testing CT_COVID Samples: 69\n",
      "No. of Testing CT_NonCOVID Samples: 79\n"
     ]
    }
   ],
   "source": [
    "import shutil\n",
    "import random\n",
    "\n",
    "random.seed(69)\n",
    "test_ratio=0.2\n",
    "\n",
    "for cases in [covid,non_covid]:\n",
    "    total_cases=len(cases['images'])\n",
    "    num_to_select=(int)(total_cases*test_ratio)\n",
    "    print(\"No. of Testing\",cases['class'],\"Samples:\",num_to_select)\n",
    "    #print(\"Total\",cases['class'],\"Samples:\",total_cases)\n",
    "    random_files_list=random.sample(cases['images'],num_to_select)\n",
    "    for files in random_files_list:\n",
    "        shutil.copy(files,'CNN/Test/'+cases['class'])"
   ]
  },
  {
   "cell_type": "code",
   "execution_count": 9,
   "id": "fb6da181",
   "metadata": {},
   "outputs": [],
   "source": [
    "for cases in [covid,non_covid]:\n",
    "    images_test_files=os.listdir('CNN/Test/'+cases['class'])\n",
    "    for images in cases['images']:\n",
    "        if images.split('\\\\')[-1] not in images_test_files:\n",
    "            shutil.copy(images,'CNN/Train/'+cases['class'])"
   ]
  },
  {
   "cell_type": "code",
   "execution_count": 10,
   "id": "eb4edbd5",
   "metadata": {},
   "outputs": [
    {
     "name": "stdout",
     "output_type": "stream",
     "text": [
      "Train sets images COVID: 280\n",
      "Train sets images Non COVID: 318\n",
      "Test sets images COVID: 69\n",
      "Test sets images Non COVID: 79\n"
     ]
    }
   ],
   "source": [
    "total_train_covid = len(os.listdir('C:/Users/Aditya/Documents/GitHub/Covid-19-Diagnosis-from-Lung-CT-Scans/CNN/Train/CT_COVID'))\n",
    "total_train_noncovid = len(os.listdir('C:/Users/Aditya/Documents/GitHub/Covid-19-Diagnosis-from-Lung-CT-Scans/CNN/Train/CT_NonCOVID'))\n",
    "total_test_covid = len(os.listdir('C:/Users/Aditya/Documents/GitHub/Covid-19-Diagnosis-from-Lung-CT-Scans/CNN/Test/CT_COVID'))\n",
    "total_test_noncovid = len(os.listdir('C:/Users/Aditya/Documents/GitHub/Covid-19-Diagnosis-from-Lung-CT-Scans/CNN/Test/CT_NonCOVID'))\n",
    "\n",
    "print(\"Train sets images COVID: {}\".format(total_train_covid))\n",
    "print(\"Train sets images Non COVID: {}\".format(total_train_noncovid))\n",
    "print(\"Test sets images COVID: {}\".format(total_test_covid))\n",
    "print(\"Test sets images Non COVID: {}\".format(total_test_noncovid))"
   ]
  },
  {
   "cell_type": "code",
   "execution_count": 26,
   "id": "dfbee4a3",
   "metadata": {},
   "outputs": [],
   "source": [
    "import tensorflow as tf\n",
    "from tensorflow import keras\n",
    "from tensorflow.keras.models import Sequential \n",
    "from tensorflow.keras.layers import Dense,Conv2D,MaxPooling2D,Flatten, Dropout\n",
    "from tensorflow.keras.preprocessing.image import ImageDataGenerator"
   ]
  },
  {
   "cell_type": "code",
   "execution_count": 13,
   "id": "019af400",
   "metadata": {},
   "outputs": [],
   "source": [
    "train_image_gen = ImageDataGenerator(rescale=1./255)\n",
    "test_image_gen = ImageDataGenerator(rescale=1./255)\n",
    "\n",
    "train_dir=os.path.join('C:/Users/Aditya/Documents/GitHub/Covid-19-Diagnosis-from-Lung-CT-Scans/CNN/Train/')\n",
    "test_dir=os.path.join('C:/Users/Aditya/Documents/GitHub/Covid-19-Diagnosis-from-Lung-CT-Scans/CNN/Test/')"
   ]
  },
  {
   "cell_type": "code",
   "execution_count": 16,
   "id": "9b95c9cc",
   "metadata": {},
   "outputs": [
    {
     "name": "stdout",
     "output_type": "stream",
     "text": [
      "Found 598 images belonging to 2 classes.\n"
     ]
    }
   ],
   "source": [
    "train_generator=train_image_gen.flow_from_directory(train_dir, batch_size=32, class_mode='binary', \n",
    "                                                  target_size=(250,250))"
   ]
  },
  {
   "cell_type": "code",
   "execution_count": 17,
   "id": "5519cf6f",
   "metadata": {},
   "outputs": [
    {
     "name": "stdout",
     "output_type": "stream",
     "text": [
      "Found 148 images belonging to 2 classes.\n"
     ]
    }
   ],
   "source": [
    "test_generator=test_image_gen.flow_from_directory(test_dir, batch_size=32, class_mode='binary',\n",
    "                                               target_size=(250,250))"
   ]
  },
  {
   "cell_type": "code",
   "execution_count": 27,
   "id": "5b5628e3",
   "metadata": {},
   "outputs": [],
   "source": [
    "model = Sequential([\n",
    "    Conv2D(32, 3, padding='same', activation='relu', input_shape=(250, 250 ,3)),\n",
    "    MaxPooling2D(),\n",
    "    Conv2D(32, 3, padding='same', activation='relu'),\n",
    "    MaxPooling2D(),\n",
    "    Conv2D(32, 3, padding='same', activation='relu'),\n",
    "    MaxPooling2D(),\n",
    "    Conv2D(32, 3, padding='same', activation='relu'),\n",
    "    MaxPooling2D(),\n",
    "    Flatten(),\n",
    "    Dropout(0.5),\n",
    "    Dense(256, activation='relu'),\n",
    "    Dense(1)\n",
    "])"
   ]
  },
  {
   "cell_type": "code",
   "execution_count": 34,
   "id": "b2fec81a",
   "metadata": {},
   "outputs": [],
   "source": [
    "model=tf.keras.models.Sequential([\n",
    "    tf.keras.layers.Conv2D(16,(3,3),activation='relu',input_shape=(250,250,3)),\n",
    "    tf.keras.layers.MaxPooling2D(2,2),\n",
    "    \n",
    "    tf.keras.layers.Conv2D(32,(3,3),activation='relu'),\n",
    "    tf.keras.layers.MaxPooling2D(2,2),\n",
    "    tf.keras.layers.Dropout(0.4),\n",
    "    \n",
    "    tf.keras.layers.Conv2D(32,(3,3),activation='relu'),\n",
    "    tf.keras.layers.MaxPooling2D(2,2),\n",
    "    \n",
    "    tf.keras.layers.Flatten(),\n",
    "    \n",
    "    tf.keras.layers.Dense(128,activation='relu'),\n",
    "    tf.keras.layers.Dropout(0.4),\n",
    "    tf.keras.layers.Dense(64,activation='relu'),\n",
    "    tf.keras.layers.Dense(1,activation='sigmoid')\n",
    "])"
   ]
  },
  {
   "cell_type": "code",
   "execution_count": 35,
   "id": "e081ad2f",
   "metadata": {},
   "outputs": [
    {
     "name": "stdout",
     "output_type": "stream",
     "text": [
      "Model: \"sequential_2\"\n",
      "_________________________________________________________________\n",
      " Layer (type)                Output Shape              Param #   \n",
      "=================================================================\n",
      " conv2d_15 (Conv2D)          (None, 248, 248, 16)      448       \n",
      "                                                                 \n",
      " max_pooling2d_15 (MaxPoolin  (None, 124, 124, 16)     0         \n",
      " g2D)                                                            \n",
      "                                                                 \n",
      " conv2d_16 (Conv2D)          (None, 122, 122, 32)      4640      \n",
      "                                                                 \n",
      " max_pooling2d_16 (MaxPoolin  (None, 61, 61, 32)       0         \n",
      " g2D)                                                            \n",
      "                                                                 \n",
      " dropout_3 (Dropout)         (None, 61, 61, 32)        0         \n",
      "                                                                 \n",
      " conv2d_17 (Conv2D)          (None, 59, 59, 32)        9248      \n",
      "                                                                 \n",
      " max_pooling2d_17 (MaxPoolin  (None, 29, 29, 32)       0         \n",
      " g2D)                                                            \n",
      "                                                                 \n",
      " flatten_2 (Flatten)         (None, 26912)             0         \n",
      "                                                                 \n",
      " dense_5 (Dense)             (None, 128)               3444864   \n",
      "                                                                 \n",
      " dropout_4 (Dropout)         (None, 128)               0         \n",
      "                                                                 \n",
      " dense_6 (Dense)             (None, 64)                8256      \n",
      "                                                                 \n",
      " dense_7 (Dense)             (None, 1)                 65        \n",
      "                                                                 \n",
      "=================================================================\n",
      "Total params: 3,467,521\n",
      "Trainable params: 3,467,521\n",
      "Non-trainable params: 0\n",
      "_________________________________________________________________\n"
     ]
    }
   ],
   "source": [
    "model.summary()"
   ]
  },
  {
   "cell_type": "code",
   "execution_count": 36,
   "id": "0bfd31bf",
   "metadata": {},
   "outputs": [
    {
     "name": "stdout",
     "output_type": "stream",
     "text": [
      "Epoch 1/10\n",
      "18/18 [==============================] - 14s 690ms/step - loss: 0.8027 - accuracy: 0.5247 - val_loss: 0.6915 - val_accuracy: 0.5338\n",
      "Epoch 2/10\n",
      "18/18 [==============================] - 12s 657ms/step - loss: 0.6871 - accuracy: 0.5724 - val_loss: 0.6895 - val_accuracy: 0.5338\n",
      "Epoch 3/10\n",
      "18/18 [==============================] - 12s 656ms/step - loss: 0.6741 - accuracy: 0.5760 - val_loss: 0.6675 - val_accuracy: 0.5811\n",
      "Epoch 4/10\n",
      "18/18 [==============================] - 12s 659ms/step - loss: 0.6172 - accuracy: 0.6396 - val_loss: 0.6238 - val_accuracy: 0.6689\n",
      "Epoch 5/10\n",
      "18/18 [==============================] - 13s 702ms/step - loss: 0.5642 - accuracy: 0.7067 - val_loss: 0.5819 - val_accuracy: 0.6757\n",
      "Epoch 6/10\n",
      "18/18 [==============================] - 12s 679ms/step - loss: 0.5717 - accuracy: 0.6996 - val_loss: 0.6165 - val_accuracy: 0.6892\n",
      "Epoch 7/10\n",
      "18/18 [==============================] - 12s 660ms/step - loss: 0.4901 - accuracy: 0.7597 - val_loss: 0.5852 - val_accuracy: 0.6892\n",
      "Epoch 8/10\n",
      "18/18 [==============================] - 12s 688ms/step - loss: 0.4429 - accuracy: 0.7668 - val_loss: 0.5539 - val_accuracy: 0.6824\n",
      "Epoch 9/10\n",
      "18/18 [==============================] - 12s 672ms/step - loss: 0.4005 - accuracy: 0.8251 - val_loss: 0.5934 - val_accuracy: 0.6892\n",
      "Epoch 10/10\n",
      "18/18 [==============================] - 12s 691ms/step - loss: 0.3535 - accuracy: 0.8410 - val_loss: 0.6412 - val_accuracy: 0.6689\n"
     ]
    }
   ],
   "source": [
    "model.compile(optimizer='adam',loss=tf.keras.losses.BinaryCrossentropy(),metrics=['accuracy'])\n",
    "\n",
    "history=model.fit(train_generator,steps_per_epoch = train_generator.samples // 32, epochs=10,validation_data=test_generator)"
   ]
  },
  {
   "cell_type": "code",
   "execution_count": 44,
   "id": "225a666e",
   "metadata": {},
   "outputs": [
    {
     "data": {
      "image/png": "[encoded data removed]",
      "text/plain": [
       "<Figure size 864x288 with 2 Axes>"
      ]
     },
     "metadata": {
      "needs_background": "light"
     },
     "output_type": "display_data"
    }
   ],
   "source": [
    "import matplotlib.pyplot as plt\n",
    "\n",
    "accuracy = history.history['accuracy']\n",
    "val_accuracy = history.history['val_accuracy']\n",
    "loss=history.history['loss']\n",
    "val_loss=history.history['val_loss']\n",
    "\n",
    "epochs_range = range(len(loss))\n",
    "\n",
    "plt.figure(figsize=(12, 4))\n",
    "plt.subplot(1, 2, 1)\n",
    "plt.plot(epochs_range, accuracy, label='Training Accuracy')\n",
    "plt.plot(epochs_range, val_accuracy, label='Validation Accuracy')\n",
    "plt.legend(loc='upper right')\n",
    "plt.title('Training and Validation Accuracy')\n",
    "\n",
    "plt.subplot(1, 2, 2)\n",
    "plt.plot(epochs_range, loss, label='Training Loss')\n",
    "plt.plot(epochs_range, val_loss, label='Validation Loss')\n",
    "plt.legend(loc='upper right')\n",
    "plt.title('Training and Validation Loss')\n",
    "plt.show()"
   ]
  },
  {
   "cell_type": "code",
   "execution_count": 67,
   "id": "30cbee55",
   "metadata": {},
   "outputs": [
    {
     "name": "stderr",
     "output_type": "stream",
     "text": [
      "C:\\Users\\Aditya\\AppData\\Local\\Temp\\ipykernel_23664\\1777754243.py:4: UserWarning: `Model.predict_generator` is deprecated and will be removed in a future version. Please use `Model.predict`, which supports generators.\n",
      "  Y_Pred=model.predict_generator(test_generator,steps=step_size)\n"
     ]
    }
   ],
   "source": [
    "from sklearn.metrics import confusion_matrix\n",
    "step_size=test_generator.samples//test_generator.batch_size\n",
    "test_generator.reset()\n",
    "Y_Pred=model.predict_generator(test_generator,steps=step_size)"
   ]
  },
  {
   "cell_type": "code",
   "execution_count": 76,
   "id": "109df1fe",
   "metadata": {},
   "outputs": [],
   "source": [
    "predictions=[]\n",
    "y_pred=[]\n",
    "for pred in Y_Pred:\n",
    "    if pred<=0.5:\n",
    "        predictions.append('CT_COVID')\n",
    "        y_pred.append(0)\n",
    "    else:\n",
    "        predictions.append('CT_NonCOVID')\n",
    "        y_pred.append(1)\n",
    "filenames=[]\n",
    "classnames=[]\n",
    "for i in range(128):\n",
    "    filenames.append(test_generator.filenames[i])\n",
    "    classnames.append(test_generator.classes[i])"
   ]
  },
  {
   "cell_type": "code",
   "execution_count": 80,
   "id": "01728636",
   "metadata": {},
   "outputs": [
    {
     "data": {
      "text/plain": [
       "array([[26, 43],\n",
       "       [26, 33]], dtype=int64)"
      ]
     },
     "execution_count": 80,
     "metadata": {},
     "output_type": "execute_result"
    }
   ],
   "source": [
    "from sklearn.metrics import confusion_matrix,classification_report\n",
    "print(confusion_matrix(classnames,y_pred))\n",
    "c_matrix=confusion_matrix(classnames,y_pred)"
   ]
  },
  {
   "cell_type": "code",
   "execution_count": 85,
   "id": "34c90799",
   "metadata": {},
   "outputs": [
    {
     "name": "stdout",
     "output_type": "stream",
     "text": [
      "Accuracy: 0.406897\n",
      "Precision: 0.434211\n",
      "Recall: 0.559322\n",
      "F1 score: 0.488889\n"
     ]
    }
   ],
   "source": [
    "accuracy = (c_matrix[0][0]+c_matrix[1][1])/(c_matrix[0][0]+c_matrix[1][1]+c_matrix[0][1]+c_matrix[0][1])\n",
    "print('Accuracy: %f' % accuracy)\n",
    "precision = (c_matrix[1][1])/(c_matrix[1][1]+c_matrix[0][1])\n",
    "print('Precision: %f' % precision)\n",
    "recall = (c_matrix[1][1])/(c_matrix[1][1]+c_matrix[1][0])\n",
    "print('Recall: %f' % recall)\n",
    "f1 = 2*((precision*recall)/(precision+recall))\n",
    "print('F1 score: %f' % f1)"
   ]
  }
 ],
 "metadata": {
  "kernelspec": {
   "display_name": "Python 3 (ipykernel)",
   "language": "python",
   "name": "python3"
  },
  "language_info": {
   "codemirror_mode": {
    "name": "ipython",
    "version": 3
   },
   "file_extension": ".py",
   "mimetype": "text/x-python",
   "name": "python",
   "nbconvert_exporter": "python",
   "pygments_lexer": "ipython3",
   "version": "3.9.12"
  }
 },
 "nbformat": 4,
 "nbformat_minor": 5
}
