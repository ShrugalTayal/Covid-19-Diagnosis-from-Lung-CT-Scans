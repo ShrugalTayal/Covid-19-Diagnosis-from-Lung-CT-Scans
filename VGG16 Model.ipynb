{
 "cells": [
  {
   "cell_type": "code",
   "execution_count": 1,
   "id": "e13630ee",
   "metadata": {},
   "outputs": [],
   "source": [
    "import numpy as np\n",
    "import pandas as pd\n",
    "import os\n",
    "from glob import glob\n",
    "import cv2"
   ]
  },
  {
   "cell_type": "code",
   "execution_count": 2,
   "id": "7263c187",
   "metadata": {},
   "outputs": [
    {
     "name": "stdout",
     "output_type": "stream",
     "text": [
      "Number of Positive Covid-19 Samples: 349\n",
      "Number of Negative Covid-19 Samples: 397\n"
     ]
    }
   ],
   "source": [
    "directory='C:/Users/Aditya/Documents/GitHub/Covid-19-Diagnosis-from-Lung-CT-Scans/Dataset'\n",
    "path_covid_positive_cases=os.path.join('C:/Users/Aditya/Documents/GitHub/Covid-19-Diagnosis-from-Lung-CT-Scans/Dataset/CT_COVID/')\n",
    "path_covid_negative_cases=os.path.join('C:/Users/Aditya/Documents/GitHub/Covid-19-Diagnosis-from-Lung-CT-Scans/Dataset/CT_NonCOVID/')\n",
    "\n",
    "print('Number of Positive Covid-19 Samples: {}'.format(len(os.listdir(path_covid_positive_cases))))\n",
    "print('Number of Negative Covid-19 Samples: {}'.format(len(os.listdir(path_covid_negative_cases))))"
   ]
  },
  {
   "cell_type": "code",
   "execution_count": 3,
   "id": "a88c50b3",
   "metadata": {},
   "outputs": [],
   "source": [
    "positive_covid_images = glob(os.path.join(path_covid_positive_cases,\"*.png\"))\n",
    "negative_covid_images = glob(os.path.join(path_covid_negative_cases,\"*.png\"))\n",
    "negative_covid_images.extend(glob(os.path.join(path_covid_negative_cases,\"*.jpg\")))"
   ]
  },
  {
   "cell_type": "code",
   "execution_count": 4,
   "id": "7021e298",
   "metadata": {},
   "outputs": [],
   "source": [
    "covid = {'class': 'CT_COVID','path': path_covid_positive_cases,'images': positive_covid_images}\n",
    "non_covid = {'class': 'CT_NonCOVID','path': path_covid_negative_cases,'images': negative_covid_images}"
   ]
  },
  {
   "cell_type": "code",
   "execution_count": 5,
   "id": "cdeec31f",
   "metadata": {},
   "outputs": [],
   "source": [
    "subdirs=['CNN/Train/','CNN/Test/']\n",
    "for subdir in subdirs:\n",
    "    labeldirs=['CT_COVID','CT_NonCOVID']\n",
    "    for labeldir in labeldirs:\n",
    "        newdir=subdir+labeldir \n",
    "        os.makedirs(newdir,exist_ok=\"True\")"
   ]
  },
  {
   "cell_type": "code",
   "execution_count": 6,
   "id": "e33af26f",
   "metadata": {},
   "outputs": [
    {
     "name": "stdout",
     "output_type": "stream",
     "text": [
      "No. of Testing CT_COVID Samples: 69\n",
      "No. of Testing CT_NonCOVID Samples: 79\n"
     ]
    }
   ],
   "source": [
    "import shutil\n",
    "import random\n",
    "\n",
    "random.seed(69)\n",
    "test_ratio=0.2\n",
    "\n",
    "for cases in [covid,non_covid]:\n",
    "    total_cases=len(cases['images'])\n",
    "    num_to_select=(int)(total_cases*test_ratio)\n",
    "    print(\"No. of Testing\",cases['class'],\"Samples:\",num_to_select)\n",
    "    #print(\"Total\",cases['class'],\"Samples:\",total_cases)\n",
    "    random_files_list=random.sample(cases['images'],num_to_select)\n",
    "    for files in random_files_list:\n",
    "        shutil.copy(files,'CNN/Test/'+cases['class'])"
   ]
  },
  {
   "cell_type": "code",
   "execution_count": 7,
   "id": "6c065926",
   "metadata": {},
   "outputs": [],
   "source": [
    "for cases in [covid,non_covid]:\n",
    "    images_test_files=os.listdir('CNN/Test/'+cases['class'])\n",
    "    for images in cases['images']:\n",
    "        if images.split('\\\\')[-1] not in images_test_files:\n",
    "            shutil.copy(images,'CNN/Train/'+cases['class'])"
   ]
  },
  {
   "cell_type": "code",
   "execution_count": 8,
   "id": "a434622b",
   "metadata": {},
   "outputs": [
    {
     "name": "stdout",
     "output_type": "stream",
     "text": [
      "Train sets images COVID: 280\n",
      "Train sets images Non COVID: 318\n",
      "Test sets images COVID: 69\n",
      "Test sets images Non COVID: 79\n"
     ]
    }
   ],
   "source": [
    "total_train_covid = len(os.listdir('C:/Users/Aditya/Documents/GitHub/Covid-19-Diagnosis-from-Lung-CT-Scans/CNN/Train/CT_COVID'))\n",
    "total_train_noncovid = len(os.listdir('C:/Users/Aditya/Documents/GitHub/Covid-19-Diagnosis-from-Lung-CT-Scans/CNN/Train/CT_NonCOVID'))\n",
    "total_test_covid = len(os.listdir('C:/Users/Aditya/Documents/GitHub/Covid-19-Diagnosis-from-Lung-CT-Scans/CNN/Test/CT_COVID'))\n",
    "total_test_noncovid = len(os.listdir('C:/Users/Aditya/Documents/GitHub/Covid-19-Diagnosis-from-Lung-CT-Scans/CNN/Test/CT_NonCOVID'))\n",
    "\n",
    "print(\"Train sets images COVID: {}\".format(total_train_covid))\n",
    "print(\"Train sets images Non COVID: {}\".format(total_train_noncovid))\n",
    "print(\"Test sets images COVID: {}\".format(total_test_covid))\n",
    "print(\"Test sets images Non COVID: {}\".format(total_test_noncovid))"
   ]
  },
  {
   "cell_type": "code",
   "execution_count": 9,
   "id": "18bde4a3",
   "metadata": {},
   "outputs": [],
   "source": [
    "import tensorflow as tf\n",
    "from tensorflow import keras\n",
    "from tensorflow.keras.models import Sequential \n",
    "from tensorflow.keras.layers import Dense,Conv2D,MaxPooling2D,Flatten, Dropout\n",
    "from tensorflow.keras.preprocessing.image import ImageDataGenerator"
   ]
  },
  {
   "cell_type": "code",
   "execution_count": 10,
   "id": "f055be36",
   "metadata": {},
   "outputs": [],
   "source": [
    "train_image_gen = ImageDataGenerator(rescale=1./255)\n",
    "test_image_gen = ImageDataGenerator(rescale=1./255)\n",
    "\n",
    "train_dir=os.path.join('C:/Users/Aditya/Documents/GitHub/Covid-19-Diagnosis-from-Lung-CT-Scans/CNN/Train/')\n",
    "test_dir=os.path.join('C:/Users/Aditya/Documents/GitHub/Covid-19-Diagnosis-from-Lung-CT-Scans/CNN/Test/')"
   ]
  },
  {
   "cell_type": "code",
   "execution_count": 11,
   "id": "c2c62d65",
   "metadata": {},
   "outputs": [
    {
     "name": "stdout",
     "output_type": "stream",
     "text": [
      "Found 598 images belonging to 2 classes.\n"
     ]
    }
   ],
   "source": [
    "train_generator=train_image_gen.flow_from_directory(train_dir, batch_size=32, class_mode='binary', \n",
    "                                                  target_size=(200,200))"
   ]
  },
  {
   "cell_type": "code",
   "execution_count": 12,
   "id": "2345e040",
   "metadata": {},
   "outputs": [
    {
     "name": "stdout",
     "output_type": "stream",
     "text": [
      "Found 148 images belonging to 2 classes.\n"
     ]
    }
   ],
   "source": [
    "test_generator=test_image_gen.flow_from_directory(test_dir, batch_size=32, class_mode='binary',\n",
    "                                               target_size=(200,200))"
   ]
  },
  {
   "cell_type": "code",
   "execution_count": 13,
   "id": "8041609e",
   "metadata": {},
   "outputs": [],
   "source": [
    "from keras import applications\n",
    "\n",
    "top_model_weights_path = 'bottleneck_fc_model.h5'\n",
    "nb_train_samples = 576\n",
    "nb_validation_samples = 96\n",
    "batch_size=32"
   ]
  },
  {
   "cell_type": "code",
   "execution_count": 14,
   "id": "96f45190",
   "metadata": {},
   "outputs": [
    {
     "name": "stdout",
     "output_type": "stream",
     "text": [
      "Found 598 images belonging to 2 classes.\n"
     ]
    },
    {
     "name": "stderr",
     "output_type": "stream",
     "text": [
      "C:\\Users\\Aditya\\AppData\\Local\\Temp\\ipykernel_3944\\1768148976.py:12: UserWarning: `Model.predict_generator` is deprecated and will be removed in a future version. Please use `Model.predict`, which supports generators.\n",
      "  bottleneck_features_train = model_vgg.predict_generator(generator, nb_train_samples // batch_size)\n"
     ]
    },
    {
     "name": "stdout",
     "output_type": "stream",
     "text": [
      "Found 148 images belonging to 2 classes.\n"
     ]
    },
    {
     "name": "stderr",
     "output_type": "stream",
     "text": [
      "C:\\Users\\Aditya\\AppData\\Local\\Temp\\ipykernel_3944\\1768148976.py:23: UserWarning: `Model.predict_generator` is deprecated and will be removed in a future version. Please use `Model.predict`, which supports generators.\n",
      "  bottleneck_features_validation = model_vgg.predict_generator(generator, nb_validation_samples // batch_size)\n"
     ]
    }
   ],
   "source": [
    "datagen = ImageDataGenerator(rescale=1. / 255)\n",
    "\n",
    "# build the VGG16 network\n",
    "model_vgg = applications.VGG16(include_top=False, weights='imagenet')\n",
    "\n",
    "generator = datagen.flow_from_directory(\n",
    "    train_dir,\n",
    "    target_size=(200, 200),\n",
    "    batch_size=batch_size,\n",
    "    class_mode=None,\n",
    "    shuffle=False)\n",
    "bottleneck_features_train = model_vgg.predict_generator(generator, nb_train_samples // batch_size)\n",
    "#bottleneck_features_train = model_vgg.predict_generator(generator)\n",
    "\n",
    "np.save('bottleneck_features_train.npy', bottleneck_features_train)\n",
    "\n",
    "generator = datagen.flow_from_directory(\n",
    "    test_dir,\n",
    "    target_size=(200, 200),\n",
    "    batch_size=batch_size,\n",
    "    class_mode=None,\n",
    "    shuffle=False)\n",
    "bottleneck_features_validation = model_vgg.predict_generator(generator, nb_validation_samples // batch_size)\n",
    "#bottleneck_features_validation = model_vgg.predict_generator(generator)\n",
    "\n",
    "np.save('bottleneck_features_validation.npy', bottleneck_features_validation)"
   ]
  },
  {
   "cell_type": "code",
   "execution_count": 15,
   "id": "4011a4ac",
   "metadata": {},
   "outputs": [
    {
     "name": "stdout",
     "output_type": "stream",
     "text": [
      "Epoch 1/50\n",
      "18/18 [==============================] - 2s 60ms/step - loss: 3.5170 - accuracy: 0.5365 - val_loss: 1.5616 - val_accuracy: 0.5625\n",
      "Epoch 2/50\n",
      "18/18 [==============================] - 1s 41ms/step - loss: 0.9463 - accuracy: 0.6267 - val_loss: 0.6352 - val_accuracy: 0.5833\n",
      "Epoch 3/50\n",
      "18/18 [==============================] - 1s 41ms/step - loss: 0.6084 - accuracy: 0.6823 - val_loss: 0.7032 - val_accuracy: 0.5938\n",
      "Epoch 4/50\n",
      "18/18 [==============================] - 1s 41ms/step - loss: 0.6077 - accuracy: 0.6771 - val_loss: 0.6484 - val_accuracy: 0.6875\n",
      "Epoch 5/50\n",
      "18/18 [==============================] - 1s 42ms/step - loss: 0.5105 - accuracy: 0.7552 - val_loss: 0.6949 - val_accuracy: 0.6354\n",
      "Epoch 6/50\n",
      "18/18 [==============================] - 1s 42ms/step - loss: 0.4543 - accuracy: 0.7778 - val_loss: 0.8588 - val_accuracy: 0.6562\n",
      "Epoch 7/50\n",
      "18/18 [==============================] - 1s 41ms/step - loss: 0.4452 - accuracy: 0.8038 - val_loss: 0.8074 - val_accuracy: 0.5938\n",
      "Epoch 8/50\n",
      "18/18 [==============================] - 1s 41ms/step - loss: 0.4154 - accuracy: 0.8125 - val_loss: 1.1158 - val_accuracy: 0.5729\n",
      "Epoch 9/50\n",
      "18/18 [==============================] - 1s 43ms/step - loss: 0.3606 - accuracy: 0.8385 - val_loss: 0.9488 - val_accuracy: 0.6875\n",
      "Epoch 10/50\n",
      "18/18 [==============================] - 1s 41ms/step - loss: 0.3431 - accuracy: 0.8576 - val_loss: 0.8566 - val_accuracy: 0.6771\n",
      "Epoch 11/50\n",
      "18/18 [==============================] - 1s 44ms/step - loss: 0.3342 - accuracy: 0.8611 - val_loss: 0.9402 - val_accuracy: 0.6562\n",
      "Epoch 12/50\n",
      "18/18 [==============================] - 1s 43ms/step - loss: 0.3279 - accuracy: 0.8438 - val_loss: 1.1991 - val_accuracy: 0.6354\n",
      "Epoch 13/50\n",
      "18/18 [==============================] - 1s 40ms/step - loss: 0.3531 - accuracy: 0.8455 - val_loss: 1.0731 - val_accuracy: 0.6458\n",
      "Epoch 14/50\n",
      "18/18 [==============================] - 1s 41ms/step - loss: 0.2475 - accuracy: 0.8924 - val_loss: 0.9584 - val_accuracy: 0.6458\n",
      "Epoch 15/50\n",
      "18/18 [==============================] - 1s 44ms/step - loss: 0.2385 - accuracy: 0.8993 - val_loss: 1.2129 - val_accuracy: 0.6875\n",
      "Epoch 16/50\n",
      "18/18 [==============================] - 1s 41ms/step - loss: 0.2164 - accuracy: 0.9271 - val_loss: 1.1311 - val_accuracy: 0.7083\n",
      "Epoch 17/50\n",
      "18/18 [==============================] - 1s 41ms/step - loss: 0.2057 - accuracy: 0.9167 - val_loss: 1.1183 - val_accuracy: 0.6771\n",
      "Epoch 18/50\n",
      "18/18 [==============================] - 1s 41ms/step - loss: 0.2149 - accuracy: 0.9028 - val_loss: 1.2023 - val_accuracy: 0.6354\n",
      "Epoch 19/50\n",
      "18/18 [==============================] - 1s 41ms/step - loss: 0.1449 - accuracy: 0.9479 - val_loss: 1.0584 - val_accuracy: 0.6667\n",
      "Epoch 20/50\n",
      "18/18 [==============================] - 1s 42ms/step - loss: 0.2135 - accuracy: 0.9132 - val_loss: 1.2529 - val_accuracy: 0.6875\n",
      "Epoch 21/50\n",
      "18/18 [==============================] - 1s 47ms/step - loss: 0.1024 - accuracy: 0.9653 - val_loss: 1.1457 - val_accuracy: 0.6458\n",
      "Epoch 22/50\n",
      "18/18 [==============================] - 1s 40ms/step - loss: 0.1974 - accuracy: 0.9236 - val_loss: 1.3064 - val_accuracy: 0.6771\n",
      "Epoch 23/50\n",
      "18/18 [==============================] - 1s 40ms/step - loss: 0.0892 - accuracy: 0.9722 - val_loss: 1.5481 - val_accuracy: 0.6875\n",
      "Epoch 24/50\n",
      "18/18 [==============================] - 1s 40ms/step - loss: 0.1342 - accuracy: 0.9479 - val_loss: 1.5338 - val_accuracy: 0.6771\n",
      "Epoch 25/50\n",
      "18/18 [==============================] - 1s 40ms/step - loss: 0.1999 - accuracy: 0.9236 - val_loss: 1.3191 - val_accuracy: 0.6875\n",
      "Epoch 26/50\n",
      "18/18 [==============================] - 1s 41ms/step - loss: 0.0583 - accuracy: 0.9861 - val_loss: 1.7716 - val_accuracy: 0.6875\n",
      "Epoch 27/50\n",
      "18/18 [==============================] - 1s 43ms/step - loss: 0.1492 - accuracy: 0.9497 - val_loss: 1.5641 - val_accuracy: 0.6875\n",
      "Epoch 28/50\n",
      "18/18 [==============================] - 1s 40ms/step - loss: 0.0821 - accuracy: 0.9653 - val_loss: 1.4103 - val_accuracy: 0.6250\n",
      "Epoch 29/50\n",
      "18/18 [==============================] - 1s 47ms/step - loss: 0.0751 - accuracy: 0.9705 - val_loss: 1.9278 - val_accuracy: 0.6875\n",
      "Epoch 30/50\n",
      "18/18 [==============================] - 1s 44ms/step - loss: 0.1692 - accuracy: 0.9392 - val_loss: 1.5849 - val_accuracy: 0.6771\n",
      "Epoch 31/50\n",
      "18/18 [==============================] - 1s 40ms/step - loss: 0.0470 - accuracy: 0.9844 - val_loss: 1.5164 - val_accuracy: 0.6146\n",
      "Epoch 32/50\n",
      "18/18 [==============================] - 1s 43ms/step - loss: 0.1236 - accuracy: 0.9566 - val_loss: 1.6419 - val_accuracy: 0.6771\n",
      "Epoch 33/50\n",
      "18/18 [==============================] - 1s 40ms/step - loss: 0.0334 - accuracy: 0.9913 - val_loss: 2.1753 - val_accuracy: 0.6771\n",
      "Epoch 34/50\n",
      "18/18 [==============================] - 1s 41ms/step - loss: 0.1043 - accuracy: 0.9566 - val_loss: 2.0547 - val_accuracy: 0.6875\n",
      "Epoch 35/50\n",
      "18/18 [==============================] - 1s 40ms/step - loss: 0.0355 - accuracy: 0.9896 - val_loss: 1.6663 - val_accuracy: 0.6354\n",
      "Epoch 36/50\n",
      "18/18 [==============================] - 1s 43ms/step - loss: 0.1246 - accuracy: 0.9514 - val_loss: 2.3623 - val_accuracy: 0.6875\n",
      "Epoch 37/50\n",
      "18/18 [==============================] - 1s 46ms/step - loss: 0.0455 - accuracy: 0.9809 - val_loss: 2.0108 - val_accuracy: 0.5833\n",
      "Epoch 38/50\n",
      "18/18 [==============================] - 1s 47ms/step - loss: 0.0610 - accuracy: 0.9826 - val_loss: 2.4429 - val_accuracy: 0.6771\n",
      "Epoch 39/50\n",
      "18/18 [==============================] - 1s 41ms/step - loss: 0.0155 - accuracy: 0.9983 - val_loss: 2.4640 - val_accuracy: 0.6875\n",
      "Epoch 40/50\n",
      "18/18 [==============================] - 1s 41ms/step - loss: 0.1719 - accuracy: 0.9531 - val_loss: 2.0217 - val_accuracy: 0.6667\n",
      "Epoch 41/50\n",
      "18/18 [==============================] - 1s 40ms/step - loss: 0.0221 - accuracy: 0.9983 - val_loss: 2.4035 - val_accuracy: 0.6667\n",
      "Epoch 42/50\n",
      "18/18 [==============================] - 1s 41ms/step - loss: 0.0918 - accuracy: 0.9670 - val_loss: 2.3542 - val_accuracy: 0.6667\n",
      "Epoch 43/50\n",
      "18/18 [==============================] - 1s 40ms/step - loss: 0.0207 - accuracy: 0.9965 - val_loss: 2.2747 - val_accuracy: 0.6771\n",
      "Epoch 44/50\n",
      "18/18 [==============================] - 1s 40ms/step - loss: 0.0331 - accuracy: 0.9913 - val_loss: 2.4679 - val_accuracy: 0.6667\n",
      "Epoch 45/50\n",
      "18/18 [==============================] - 1s 42ms/step - loss: 0.1132 - accuracy: 0.9549 - val_loss: 2.5667 - val_accuracy: 0.6771\n",
      "Epoch 46/50\n",
      "18/18 [==============================] - 1s 43ms/step - loss: 0.0195 - accuracy: 0.9931 - val_loss: 2.8955 - val_accuracy: 0.6667\n",
      "Epoch 47/50\n",
      "18/18 [==============================] - 1s 46ms/step - loss: 0.0240 - accuracy: 0.9931 - val_loss: 2.2251 - val_accuracy: 0.6042\n",
      "Epoch 48/50\n",
      "18/18 [==============================] - 1s 45ms/step - loss: 0.0822 - accuracy: 0.9670 - val_loss: 2.9946 - val_accuracy: 0.6875\n",
      "Epoch 49/50\n",
      "18/18 [==============================] - 1s 41ms/step - loss: 0.0373 - accuracy: 0.9878 - val_loss: 2.6255 - val_accuracy: 0.6562\n",
      "Epoch 50/50\n",
      "18/18 [==============================] - 1s 43ms/step - loss: 0.0253 - accuracy: 0.9931 - val_loss: 3.8838 - val_accuracy: 0.6562\n"
     ]
    }
   ],
   "source": [
    "from keras.callbacks import ModelCheckpoint, EarlyStopping, ReduceLROnPlateau\n",
    "\n",
    "train_data = np.load('bottleneck_features_train.npy')\n",
    "train_labels = np.array([0] * int((nb_train_samples / 2)) + [1] * int((nb_train_samples / 2)))\n",
    "\n",
    "validation_data = np.load('bottleneck_features_validation.npy')\n",
    "validation_labels = np.array([0] * int((nb_validation_samples / 2)) + [1] * int((nb_validation_samples / 2)))\n",
    "\n",
    "modelVgg = Sequential()\n",
    "modelVgg.add(Flatten(input_shape=train_data.shape[1:]))\n",
    "modelVgg.add(Dense(256, activation='relu'))\n",
    "modelVgg.add(Dropout(0.5))\n",
    "modelVgg.add(Dense(1, activation='sigmoid'))\n",
    "\n",
    "modelVgg.compile(optimizer='rmsprop',loss='binary_crossentropy', metrics=['accuracy'])\n",
    "\n",
    "modelVgg.fit(train_data, train_labels,\n",
    "          epochs=50,\n",
    "          batch_size=batch_size,\n",
    "          validation_data=(validation_data, validation_labels))\n",
    "modelVgg.save_weights(top_model_weights_path)"
   ]
  },
  {
   "cell_type": "code",
   "execution_count": 16,
   "id": "6d566baf",
   "metadata": {},
   "outputs": [
    {
     "name": "stdout",
     "output_type": "stream",
     "text": [
      "Found 148 images belonging to 2 classes.\n"
     ]
    }
   ],
   "source": [
    "test_data_gen = test_image_gen.flow_from_directory(batch_size=batch_size,\n",
    "                                                              directory=test_dir,\n",
    "                                                              target_size=(250, 250),\n",
    "                                                              class_mode='binary')"
   ]
  },
  {
   "cell_type": "code",
   "execution_count": 21,
   "id": "4611779c",
   "metadata": {},
   "outputs": [
    {
     "name": "stdout",
     "output_type": "stream",
     "text": [
      "3/3 [==============================] - 0s 6ms/step\n"
     ]
    },
    {
     "data": {
      "text/plain": [
       "<Figure size 432x288 with 0 Axes>"
      ]
     },
     "metadata": {},
     "output_type": "display_data"
    },
    {
     "data": {
      "image/png": "[encoded data removed]",
      "text/plain": [
       "<Figure size 720x720 with 2 Axes>"
      ]
     },
     "metadata": {
      "needs_background": "light"
     },
     "output_type": "display_data"
    }
   ],
   "source": [
    "#y_pred =  modelVgg.predict_classes(, batch_size=None).flatten()\n",
    "import matplotlib.pyplot as plt\n",
    "\n",
    "y_pred=(modelVgg.predict(validation_data) > 0.5).astype(\"float32\")\n",
    "y_test = validation_labels\n",
    "class_names = test_data_gen.class_indices.keys()\n",
    "from sklearn.metrics import confusion_matrix\n",
    "import itertools\n",
    "\n",
    "def plot_confusion_matrix(cm, classes, title='Confusion matrix', cmap=plt.cm.Blues):\n",
    "    cm = cm.astype('float') / cm.sum(axis=1)[:, np.newaxis]\n",
    "    plt.figure(figsize=(10,10))\n",
    "    plt.imshow(cm, interpolation='nearest', cmap=cmap)\n",
    "    plt.title(title)\n",
    "    plt.colorbar()\n",
    "    tick_marks = np.arange(len(classes))\n",
    "    plt.xticks(tick_marks, classes, rotation=45)\n",
    "    plt.yticks(tick_marks, classes)\n",
    "\n",
    "    fmt = '.2f'\n",
    "    thresh = cm.max() / 2.\n",
    "    for i, j in itertools.product(range(cm.shape[0]), range(cm.shape[1])):\n",
    "        plt.text(j, i, format(cm[i, j], fmt),\n",
    "                 horizontalalignment=\"center\",\n",
    "                 color=\"black\" if cm[i, j] > thresh else \"black\")\n",
    "\n",
    "    plt.ylabel('True label')\n",
    "    plt.xlabel('Predicted label')\n",
    "    plt.tight_layout()\n",
    "    \n",
    "# compute confusion matrix\n",
    "cnf_matrix = confusion_matrix(y_test, y_pred)\n",
    "np.set_printoptions(precision=2)\n",
    "\n",
    "# plot normalized confusion matrix\n",
    "plt.figure()\n",
    "plot_confusion_matrix(cnf_matrix, classes=class_names, title='Normalized confusion matrix')\n",
    "plt.show()"
   ]
  },
  {
   "cell_type": "code",
   "execution_count": 30,
   "id": "0faf9e84",
   "metadata": {},
   "outputs": [
    {
     "name": "stdout",
     "output_type": "stream",
     "text": [
      "Accuracy: 0.940299\n",
      "Precision: 0.894737\n",
      "Recall: 0.684167\n",
      "F1 score: 0.775410\n"
     ]
    }
   ],
   "source": [
    "accuracy = (cnf_matrix[0][0]+cnf_matrix[1][1])/(cnf_matrix[0][0]+cnf_matrix[1][1]+cnf_matrix[0][1]+cnf_matrix[0][1])\n",
    "print('Accuracy: %f' % accuracy)\n",
    "precision = (cnf_matrix[1][1])/(cnf_matrix[1][1]+cnf_matrix[0][1])\n",
    "print('Precision: %f' % precision)\n",
    "recall = (cnf_matrix[1][1])/(cnf_matrix[1][1]+cnf_matrix[1][0])\n",
    "print('Recall: %f' % recall)\n",
    "f1 = 2*((precision*recall)/(precision+recall))\n",
    "print('F1 score: %f' % f1)"
   ]
  }
 ],
 "metadata": {
  "kernelspec": {
   "display_name": "Python 3 (ipykernel)",
   "language": "python",
   "name": "python3"
  },
  "language_info": {
   "codemirror_mode": {
    "name": "ipython",
    "version": 3
   },
   "file_extension": ".py",
   "mimetype": "text/x-python",
   "name": "python",
   "nbconvert_exporter": "python",
   "pygments_lexer": "ipython3",
   "version": "3.9.12"
  }
 },
 "nbformat": 4,
 "nbformat_minor": 5
}
